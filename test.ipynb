{
 "cells": [
  {
   "cell_type": "code",
   "execution_count": 116,
   "metadata": {},
   "outputs": [
    {
     "name": "stdout",
     "output_type": "stream",
     "text": [
      "srch_string  Gel ro\n",
      "sub_str      blau grün Gelb rot gelb Rot\n",
      "s_words      ['Gel', 'ro']\n",
      "s_parts      ['blau grün ', 'Gel', 'b ', 'ro', 't gelb Rot']\n",
      "s_words_x    ['Gel', 'ro']\n",
      "l parts      blau grün \u001b[31mGel\u001b[0mb \u001b[31mro\u001b[0mt gelb Rot\n",
      "\n",
      "srch_string  gel ro\n",
      "sub_str      blau grün Gelb rot gelb Rot\n",
      "s_words      ['gel', 'ro']\n",
      "s_parts      ['blau grün Gelb ', 'ro', 't ', 'gel', 'b Rot']\n",
      "s_words_x    ['gel', 'ro']\n",
      "l parts      blau grün Gelb \u001b[31mro\u001b[0mt \u001b[31mgel\u001b[0mb Rot\n",
      "\n",
      "srch_string  gel ro\n",
      "sub_str      blau grün Gelb rot gelb Rot\n",
      "s_words      ['gel', 'ro']\n",
      "s_parts      ['blau grün ', 'Gel', 'b ', 'ro', 't ', 'gel', 'b ', 'Ro', 't']\n",
      "s_words_x    ['gel', 'ro']\n",
      "l parts      blau grün \u001b[31mGel\u001b[0mb \u001b[31mro\u001b[0mt \u001b[31mgel\u001b[0mb \u001b[31mRo\u001b[0mt\n",
      "\n"
     ]
    }
   ],
   "source": [
    "from math import e\n",
    "import re\n",
    "\n",
    "def debug(pre, value):\n",
    "    print(f'{pre:<13}{value}')\n",
    "\n",
    "def debug_parts(pre, parts):\n",
    "    print(f'{pre:<13}', end='')\n",
    "    for part in parts:\n",
    "        clean_part = part.replace('\"', '')\n",
    "        print(clean_part, end='')\n",
    "    print()\n",
    "\n",
    "def wrap_part(part):\n",
    "    return f\"\\x1b[31m\\\"{part}\\\"\\x1b[0m\"\n",
    "\n",
    "def do(sub_string, srch_string, case_sensitive=False):\n",
    "    print(f'case_sensitive: {case_sensitive}')\n",
    "    debug('srch_string', srch_string)\n",
    "    debug('sub_str', sub_string)\n",
    "\n",
    "    s_words = srch_string.split()\n",
    "    debug('s_words', s_words)\n",
    "\n",
    "    flags = re.UNICODE\n",
    "    if not case_sensitive:\n",
    "        flags |= re.IGNORECASE\n",
    "\n",
    "    s_parts =  [s_word for s_word in re.split(rf\"({'|'.join(s_words)})\", sub_string, flags=flags) if s_word]\n",
    "\n",
    "    debug('s_parts', s_parts)\n",
    "\n",
    "    l_parts = []\n",
    "    s_words_x = s_words if case_sensitive else [s_word.lower() for s_word in s_words]\n",
    "\n",
    "    debug('s_words_x', s_words_x)\n",
    "\n",
    "    for word in s_parts:\n",
    "        word_x = word if case_sensitive else word.lower()\n",
    "        l_parts.append(wrap_part(word) if word_x in s_words else word)\n",
    "\n",
    "    debug_parts('l parts', l_parts)\n",
    "    print()\n",
    "\n",
    "line = 'blau grün Gelb rot gelb Rot'\n",
    "do(line, 'Gel ro', case_sensitive=True)\n",
    "do(line, 'gel ro', case_sensitive=True)\n",
    "do(line, 'gel ro')\n"
   ]
  },
  {
   "cell_type": "markdown",
   "metadata": {},
   "source": []
  }
 ],
 "metadata": {
  "kernelspec": {
   "display_name": "selecta-dev",
   "language": "python",
   "name": "python3"
  },
  "language_info": {
   "codemirror_mode": {
    "name": "ipython",
    "version": 3
   },
   "file_extension": ".py",
   "mimetype": "text/x-python",
   "name": "python",
   "nbconvert_exporter": "python",
   "pygments_lexer": "ipython3",
   "version": "3.10.12"
  }
 },
 "nbformat": 4,
 "nbformat_minor": 2
}
