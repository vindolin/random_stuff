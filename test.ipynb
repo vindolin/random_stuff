from math import e
import re

def debug(pre, value):
    print(f'{pre:<13}{value}')

def debug_parts(pre, parts):
    print(f'{pre:<13}', end='')
    for part in parts:
        clean_part = part.replace('"', '')
        print(clean_part, end='')
    print()

def wrap_part(part):
    return f"\x1b[31m\"{part}\"\x1b[0m"

def do(sub_string, srch_string, case_sensitive=False):
    debug('srch_string', srch_string)
    debug('sub_str', sub_string)

    s_words = srch_string.split()
    debug('s_words', s_words)

    flags = re.UNICODE
    if not case_sensitive:
        flags |= re.IGNORECASE

    s_parts =  [s_word for s_word in re.split(rf"({'|'.join(s_words)})", sub_string, flags=flags) if s_word]

    debug('s_parts', s_parts)

    l_parts = []
    s_words_x = s_words if case_sensitive else [s_word.lower() for s_word in s_words]

    debug('s_words_x', s_words_x)

    for word in s_parts:
        word_x = word if case_sensitive else word.lower()
        if word_x in s_words_x:
            l_parts.append(wrap_part(word))
        else:
            l_parts.append(word)

    debug_parts('l parts', l_parts)
    print()

line = 'blau grün Gelb rot gelb Rot'
do(line, 'Gel ro', True)
do(line, 'gel ro', True)
do(line, 'gel ro')
